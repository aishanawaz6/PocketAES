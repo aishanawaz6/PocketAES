{
 "cells": [
  {
   "cell_type": "markdown",
   "id": "0a975d2d",
   "metadata": {},
   "source": [
    "# Information Security\n",
    "## QUESTION:\n",
    "## You are required to write three CLI programs in one of the following languages: C/C++, Java or Python.\n",
    "### 1. Write a program that demonstrates the working of individual PocketAES encryption stages shown in figure 1. Prompt the user for text block and key inputs, in the form of 16-bit hexadecimal numbers. Compute and show the outputs of applying SubNibbles, ShiftRow, MixColumns and GenerareRoundKeys on those two. See sample run below for an example.\n",
    "\n"
   ]
  },
  {
   "cell_type": "code",
   "execution_count": 1,
   "id": "384c6808",
   "metadata": {},
   "outputs": [],
   "source": [
    "import numpy as np\n",
    "def getNibbles(plaintext):\n",
    "    '''\n",
    "    In this function, A plaintext block is subdivided into four nibbles (4 bits) \n",
    "    which are then arranged in a matrix form in column-first ordering and that matrix is returned\n",
    "    '''\n",
    "    \n",
    "    binaryForm=str(bin(int(plaintext,16))).split('0b')[1] #Converting Hex to Binary Form\n",
    "\n",
    "    #Checking if length of binary form is 16bits, if not append zero in start\n",
    "    if(len(binaryForm)<16):\n",
    "        binaryForm=str(binaryForm).zfill(16)\n",
    "      \n",
    "    #Creating Matrix from nibbles in column-first ordering\n",
    "    matrix=np.array([[str(binaryForm[0:4]),str(binaryForm[8:12])],[str(binaryForm[4:8]),str(binaryForm[12:16])]])\n",
    "    \n",
    "    return matrix"
   ]
  },
  {
   "cell_type": "code",
   "execution_count": 2,
   "id": "91cbf4b9",
   "metadata": {},
   "outputs": [
    {
     "name": "stdout",
     "output_type": "stream",
     "text": [
      "Help on function getNibbles in module __main__:\n",
      "\n",
      "getNibbles(plaintext)\n",
      "    In this function, A plaintext block is subdivided into four nibbles (4 bits) \n",
      "    which are then arranged in a matrix form in column-first ordering and that matrix is returned\n",
      "\n",
      "[['1100' '1100']\n",
      " ['0011' '1101']]\n"
     ]
    }
   ],
   "source": [
    "help(getNibbles)\n",
    "matrixNibbles=getNibbles('C3CD')\n",
    "print(matrixNibbles)"
   ]
  },
  {
   "cell_type": "code",
   "execution_count": 3,
   "id": "1367b1c9",
   "metadata": {},
   "outputs": [],
   "source": [
    "import numpy as np\n",
    "# Table 1 from Assignment 1 pdf has been copied as it is and made into a dictionary. Here key is input & value is output.\n",
    "substitutionBox={\n",
    "  '0000':  '1010',     \n",
    "  '0001':  '0000',\n",
    "  '0010':  '1001',\n",
    "  '0011':  '1110',\n",
    "  '0100':  '0110',\n",
    "  '0101':  '0011',\n",
    "  '0110':  '1111',\n",
    "  '0111':  '0101',\n",
    "  '1000':  '0001',\n",
    "  '1001':  '1101',\n",
    "  '1010':  '1100',\n",
    "  '1011':  '0111',\n",
    "  '1100':  '1011',\n",
    "  '1101':  '0100',\n",
    "  '1110':  '0010',\n",
    "  '1111':  '1000'\n",
    "}\n",
    "inverseSubstitutionBox={\n",
    "  '1010':'0000',   \n",
    "  '0000':'0001',\n",
    "  '1001':'0010',\n",
    "  '1110':'0011',\n",
    "  '0110':'0100',\n",
    "  '0011':'0101',\n",
    "  '1111':'0110',\n",
    "  '0101':'0111',\n",
    "  '0001':'1000',\n",
    "  '1101':'1001',\n",
    "  '1100':'1010',    \n",
    "  '0111':'1011',\n",
    "  '1011':'1100',\n",
    "  '0100':'1101',\n",
    "  '0010':'1110',\n",
    "  '1000':'1111'    \n",
    "}\n",
    "\n",
    "def getSubNibbles(matrix,typeOfSubstitution):\n",
    "    '''\n",
    "     This Function substitutes each nibble in matrix with a different one according to typeOfSubstitution variable.\n",
    "     -> If the typeOfSubstituion value is 'Normal' it uses substitutionBox Dictionary.\n",
    "     -> If the typeOfSubstituion value is 'Inverse' it uses Inverse substitutionBox Dictionary.\n",
    "    '''\n",
    "    \n",
    "    if(typeOfSubstitution=='Normal'):\n",
    "        substitutionBoxChoice=substitutionBox.copy()\n",
    "    elif(typeOfSubstitution=='Inverse'):\n",
    "        substitutionBoxChoice=inverseSubstitutionBox.copy()\n",
    "    else:\n",
    "        print('ERROR! Invalid typeOfSubstituion')\n",
    "        return -1\n",
    "    \n",
    "    FirstNibble=substitutionBoxChoice[matrix[0][0]]   #Row 0, Column 0 = Nibble 1\n",
    "    SecondNibble=substitutionBoxChoice[matrix[1][0]]  #Row 1, Column 0 = Nibble 2\n",
    "    ThirdNibble=substitutionBoxChoice[matrix[0][1]]   #Row 0, Column 1 = Nibble 3\n",
    "    FourthNibble=substitutionBoxChoice[matrix[1][1]]  #Row 1, Column 1 = Nibble 4\n",
    "    \n",
    "    return np.array([[FirstNibble,ThirdNibble],[SecondNibble,FourthNibble]])"
   ]
  },
  {
   "cell_type": "code",
   "execution_count": 4,
   "id": "e49c2e08",
   "metadata": {},
   "outputs": [
    {
     "name": "stdout",
     "output_type": "stream",
     "text": [
      "Help on function getSubNibbles in module __main__:\n",
      "\n",
      "getSubNibbles(matrix, typeOfSubstitution)\n",
      "    This Function substitutes each nibble in matrix with a different one according to typeOfSubstitution variable.\n",
      "    -> If the typeOfSubstituion value is 'Normal' it uses substitutionBox Dictionary.\n",
      "    -> If the typeOfSubstituion value is 'Inverse' it uses Inverse substitutionBox Dictionary.\n",
      "\n",
      "[['1011' '1011']\n",
      " ['1110' '0100']]\n"
     ]
    }
   ],
   "source": [
    "help(getSubNibbles)\n",
    "subMatrix=getSubNibbles(matrixNibbles,'Normal')\n",
    "print(subMatrix)"
   ]
  },
  {
   "cell_type": "code",
   "execution_count": 5,
   "id": "28e401e9",
   "metadata": {},
   "outputs": [],
   "source": [
    "def getShiftRow(matrix):\n",
    "    \"\"\"\n",
    "    In this Function, the first row of the input matrix is rotated by four bits so that nibbles get swapped\n",
    "    and the new marix is returned.\n",
    "    \"\"\"\n",
    "    matrixNEW=matrix.copy()\n",
    "    matrixNEW[0][0],matrixNEW[0][1]=matrixNEW[0][1],matrixNEW[0][0]\n",
    "    return matrixNEW"
   ]
  },
  {
   "cell_type": "code",
   "execution_count": 6,
   "id": "53ac50a2",
   "metadata": {},
   "outputs": [
    {
     "name": "stdout",
     "output_type": "stream",
     "text": [
      "Help on function getShiftRow in module __main__:\n",
      "\n",
      "getShiftRow(matrix)\n",
      "    In this Function, the first row of the input matrix is rotated by four bits so that nibbles get swapped\n",
      "    and the new marix is returned.\n",
      "\n",
      "[['1011' '1011']\n",
      " ['1110' '0100']]\n"
     ]
    }
   ],
   "source": [
    "help(getShiftRow)\n",
    "shiftedMatrix=getShiftRow(subMatrix)\n",
    "print(shiftedMatrix)"
   ]
  },
  {
   "cell_type": "code",
   "execution_count": 7,
   "id": "53e24e6c",
   "metadata": {},
   "outputs": [],
   "source": [
    "def multiplication(a,b):\n",
    "    '''\n",
    "    Algorithm for multiplication in the finite field GF(𝟐^𝟒) using irreducible polynomial 𝒙^𝟒 + 𝒙 + 𝟏\n",
    "    -> Inputs: Two 4-bit numbers 𝑎, 𝑏\n",
    "    -> Output: 𝑚, their product in the finite field\n",
    "    '''\n",
    "    b=int(b,2) #Converting b to binary form\n",
    "    m=0\n",
    "    while (b>0):\n",
    "        if ((b & 1)==1):         # Checking if lSB of b is 1\n",
    "            m=m^a                # m xor a\n",
    "\n",
    "        a=a<<1                   # Shiffting a's one bit to the left\n",
    "        \n",
    "        if(((a >> 4) & 1)==1):   # Checing if FourthBit of a is 1\n",
    "            a=a^0b10011          # a xor 10011\n",
    "        \n",
    "        b=b>>1                   # Shiffting b's one bit to the right\n",
    "        \n",
    "    return int(bin(m),2)        #Returing answer in int form"
   ]
  },
  {
   "cell_type": "code",
   "execution_count": 8,
   "id": "13c597ae",
   "metadata": {},
   "outputs": [
    {
     "name": "stdout",
     "output_type": "stream",
     "text": [
      "Help on function multiplication in module __main__:\n",
      "\n",
      "multiplication(a, b)\n",
      "    Algorithm for multiplication in the finite field GF(𝟐^𝟒) using irreducible polynomial 𝒙^𝟒 + 𝒙 + 𝟏\n",
      "    -> Inputs: Two 4-bit numbers 𝑎, 𝑏\n",
      "    -> Output: 𝑚, their product in the finite field\n",
      "\n",
      "5\n"
     ]
    }
   ],
   "source": [
    "help(multiplication)\n",
    "print(multiplication(0b00100,'1100'))"
   ]
  },
  {
   "cell_type": "code",
   "execution_count": 9,
   "id": "fc689731",
   "metadata": {},
   "outputs": [],
   "source": [
    "def multiplyMatrixWithColumn(matrix,col):\n",
    "    '''\n",
    "    In this function, Each row's element of matrix is multiplied by a column's element & result is XORed. \n",
    "    '''\n",
    "    RowZero = multiplication(matrix[0][0],col[0]) ^ multiplication(matrix[0][1],col[1])\n",
    "    RowOne  = multiplication(matrix[1][0],col[0]) ^ multiplication(matrix[1][1],col[1])\n",
    "    \n",
    "    RowZero = str(bin(RowZero)).split('0b')[1] #Converting to str form for better understanding\n",
    "    RowOne  = str(bin(RowOne)).split('0b')[1]\n",
    "    \n",
    "    if(len(RowZero)<4):                      #Making sure bits are 4. If not, append zeros in front\n",
    "        RowZero=str(RowZero).zfill(4)\n",
    "    if(len(RowOne)<4):\n",
    "        RowOne=str(RowOne).zfill(4)\n",
    "    \n",
    "    return RowZero,RowOne"
   ]
  },
  {
   "cell_type": "code",
   "execution_count": 10,
   "id": "d5ff1a1d",
   "metadata": {},
   "outputs": [
    {
     "name": "stdout",
     "output_type": "stream",
     "text": [
      "Help on function multiplyMatrixWithColumn in module __main__:\n",
      "\n",
      "multiplyMatrixWithColumn(matrix, col)\n",
      "    In this function, Each row's element of matrix is multiplied by a column's element & result is XORed.\n",
      "\n",
      "('1101', '0111')\n"
     ]
    }
   ],
   "source": [
    "help(multiplyMatrixWithColumn)\n",
    "cMatrix=np.array([[0b0001,0b0100],[0b0100,0b0001]])\n",
    "print(multiplyMatrixWithColumn(cMatrix,['0001','0011']))"
   ]
  },
  {
   "cell_type": "code",
   "execution_count": 11,
   "id": "e024e7a0",
   "metadata": {},
   "outputs": [],
   "source": [
    "# In PocketAES, the constant matrix is fixed to\n",
    "#     [1 4]\n",
    "#     [4 1]\n",
    "constantMatrix=np.array([[0b0001,0b0100],[0b0100,0b0001]])\n",
    "\n",
    "def getMixColumns(matrix):\n",
    "    '''\n",
    "    In this function, each column of matrix is multiplied by a constant matrix & result is saved in a new matrix & returned\n",
    "    '''\n",
    "    newMatrix=matrix.copy()\n",
    "\n",
    "    r0c0,r1c0=multiplyMatrixWithColumn(constantMatrix,matrix[:,0]) #Constant Matrix Multiplied with Column 0\n",
    "    r0c1,r1c1=multiplyMatrixWithColumn(constantMatrix,matrix[:,1]) #Constant Matrix Multiplied with Column 1\n",
    "    \n",
    "    newMatrix[:,0]=[r0c0,r1c0] # Constant Matrix Multiplied with Column 0's  Result Saved in Column 0 of newMatrix\n",
    "    newMatrix[:,1]=[r0c1,r1c1] # Constant Matrix Multiplied with Column 1's  Result Saved in Column 1 of newMatrix\n",
    "    \n",
    "    return newMatrix"
   ]
  },
  {
   "cell_type": "code",
   "execution_count": 12,
   "id": "0937136f",
   "metadata": {},
   "outputs": [
    {
     "name": "stdout",
     "output_type": "stream",
     "text": [
      "Help on function getMixColumns in module __main__:\n",
      "\n",
      "getMixColumns(matrix)\n",
      "    In this function, each column of matrix is multiplied by a constant matrix & result is saved in a new matrix & returned\n",
      "\n",
      "[['0110' '0010']\n",
      " ['0000' '0101']]\n"
     ]
    }
   ],
   "source": [
    "help(getMixColumns)\n",
    "MixColumnResult=getMixColumns(np.array([['0011','1011'],['1100','1111']]))\n",
    "print(MixColumnResult)"
   ]
  },
  {
   "cell_type": "code",
   "execution_count": 13,
   "id": "8aec894f",
   "metadata": {},
   "outputs": [],
   "source": [
    "substitutionBox={\n",
    "  '0000':  '1010',     \n",
    "  '0001':  '0000',\n",
    "  '0010':  '1001',\n",
    "  '0011':  '1110',\n",
    "  '0100':  '0110',\n",
    "  '0101':  '0011',\n",
    "  '0110':  '1111',\n",
    "  '0111':  '0101',\n",
    "  '1000':  '0001',\n",
    "  '1001':  '1101',\n",
    "  '1010':  '1100',\n",
    "  '1011':  '0111',\n",
    "  '1100':  '1011',\n",
    "  '1101':  '0100',\n",
    "  '1110':  '0010',\n",
    "  '1111':  '1000'\n",
    "}\n",
    "\n",
    "\n",
    "def getGenerateRoundKeys(masterkey):\n",
    "    '''\n",
    "    In this Function using the master key, two round keys are generated and returned in hex form\n",
    "    '''\n",
    "    \n",
    "    #𝑅𝑐𝑜𝑛1 & 𝑅𝑐𝑜𝑛2 are round constants with fixed values 1110 and 1010 respectively.   \n",
    "    Rcon1=0b1110\n",
    "    Rcon2=0b1010\n",
    "    \n",
    "    #Getting Nibbles of key\n",
    "    matrixMasterKey=getNibbles(masterkey) \n",
    "    w0,w1,w2,w3=matrixMasterKey[0][0],matrixMasterKey[1][0],matrixMasterKey[0][1],matrixMasterKey[1][1]\n",
    "      \n",
    "    #For Key 1\n",
    "    w4=int(w0,2)^int(substitutionBox[w3],2)^Rcon1\n",
    "    w5=int(w1,2)^w4\n",
    "    w6=int(w2,2)^w5\n",
    "    w7=int(w3,2)^w6\n",
    "\n",
    "    key1=np.array([[bin(w4),bin(w6)],[bin(w5),bin(w7)]]) #Saving each nibble of key1 in binary form\n",
    "   \n",
    "    #For Key 2\n",
    "    w7v2=str(bin(w7)).split('0b')[1] #Converting w7 to str form so it can be found in substitutionBox Dictionary.\n",
    "    if(len(w7v2)<4): #Making sure its length is 4 else append zeros.(This is just to ease the process of finding key in dictionary)\n",
    "        w7v2=w7v2.zfill(4)\n",
    "        \n",
    "    w8=w4^int(substitutionBox[w7v2],2)^Rcon2\n",
    "    w9=w5^w8\n",
    "    w10=w6^w9\n",
    "    w11=w7^w10\n",
    " \n",
    "    key2=np.array([[bin(w8),bin(w10)],[bin(w9),bin(w11)]]) #Saving each nibble of key1 in binary form\n",
    "    \n",
    "    return key1,key2"
   ]
  },
  {
   "cell_type": "code",
   "execution_count": 14,
   "id": "3fdf7def",
   "metadata": {},
   "outputs": [
    {
     "name": "stdout",
     "output_type": "stream",
     "text": [
      "Help on function getGenerateRoundKeys in module __main__:\n",
      "\n",
      "getGenerateRoundKeys(masterkey)\n",
      "    In this Function using the master key, two round keys are generated and returned in hex form\n",
      "\n",
      "[['0b1000' '0b0']\n",
      " ['0b10' '0b1011']]\n",
      "[['0b101' '0b111']\n",
      " ['0b111' '0b1100']]\n"
     ]
    }
   ],
   "source": [
    "help(getGenerateRoundKeys)\n",
    "k1,k2=getGenerateRoundKeys('1A2B')\n",
    "print(k1)\n",
    "print(k2)"
   ]
  },
  {
   "cell_type": "code",
   "execution_count": 15,
   "id": "abda5558",
   "metadata": {},
   "outputs": [],
   "source": [
    "def getInHexFromBinaryStr(matrix):\n",
    "    '''\n",
    "    This Function converts a matrix with Binary Numbers in str format to complete hex form and return that hex form as string.\n",
    "    '''\n",
    "    return str(hex(int(matrix[0][0]+matrix[1][0]+matrix[0][1]+matrix[1][1],2))).split('0x')[1]"
   ]
  },
  {
   "cell_type": "code",
   "execution_count": 16,
   "id": "87e934ee",
   "metadata": {},
   "outputs": [
    {
     "name": "stdout",
     "output_type": "stream",
     "text": [
      "Help on function getInHexFromBinaryStr in module __main__:\n",
      "\n",
      "getInHexFromBinaryStr(matrix)\n",
      "    This Function converts a matrix with Binary Numbers in str format to complete hex form and return that hex form as string.\n",
      "\n",
      "c3cd\n"
     ]
    }
   ],
   "source": [
    "help(getInHexFromBinaryStr)\n",
    "print(getInHexFromBinaryStr(matrixNibbles))"
   ]
  },
  {
   "cell_type": "code",
   "execution_count": 17,
   "id": "f28ba807",
   "metadata": {},
   "outputs": [],
   "source": [
    "def getInHexFromBinary(matrix):\n",
    "    '''\n",
    "    This function converts matrix with binary form to str form and then convert them to hex and return that hex as str format\n",
    "    '''\n",
    "    \n",
    "    NibbleA=str(matrix[0][0]).split('0b')[1] \n",
    "    NibbleB=str(matrix[1][0]).split('0b')[1]\n",
    "    NibbleC=str(matrix[0][1]).split('0b')[1]\n",
    "    NibbleD=str(matrix[1][1]).split('0b')[1]\n",
    "    \n",
    "    #Making Sure Each Nibble is of Length 4\n",
    "    if(len(NibbleA)<4):\n",
    "        NibbleA=NibbleA.zfill(4)\n",
    "    if(len(NibbleB)<4):\n",
    "        NibbleB=NibbleB.zfill(4)\n",
    "    if(len(NibbleC)<4):\n",
    "        NibbleC=NibbleC.zfill(4)\n",
    "    if(len(NibbleD)<4):\n",
    "        NibbleD=NibbleD.zfill(4)\n",
    "\n",
    "    return str(hex(int(NibbleA+NibbleB+NibbleC+NibbleD,2))).split('0x')[1] #Returning hex as str form"
   ]
  },
  {
   "cell_type": "code",
   "execution_count": 18,
   "id": "c8a3a0b6",
   "metadata": {},
   "outputs": [
    {
     "name": "stdout",
     "output_type": "stream",
     "text": [
      "Help on function getInHexFromBinary in module __main__:\n",
      "\n",
      "getInHexFromBinary(matrix)\n",
      "    This function converts matrix with binary form to str form and then convert them to hex and return that hex as str format\n",
      "\n",
      "820b\n"
     ]
    }
   ],
   "source": [
    "help(getInHexFromBinary)\n",
    "print(getInHexFromBinary(k1))"
   ]
  },
  {
   "cell_type": "code",
   "execution_count": 19,
   "id": "db141430",
   "metadata": {},
   "outputs": [],
   "source": [
    "def isHex(num): \n",
    "    '''\n",
    "    This function checks if Input num is hex or not. Returns True if yes and False if not hex.\n",
    "    '''\n",
    "    num=num.lower() #To ensure accuracy even when user input is not lowercase\n",
    "    for i in num:\n",
    "        if (not ( ( (i>='0') and (i<='9') ) or ( (i>='a') and (i<='f') ) )):\n",
    "            return False\n",
    "    return True"
   ]
  },
  {
   "cell_type": "code",
   "execution_count": 20,
   "id": "e6e5cb96",
   "metadata": {},
   "outputs": [
    {
     "name": "stdout",
     "output_type": "stream",
     "text": [
      "Help on function isHex in module __main__:\n",
      "\n",
      "isHex(num)\n",
      "    This function checks if Input num is hex or not. Returns True if yes and False if not hex.\n",
      "\n",
      "True\n",
      "False\n"
     ]
    }
   ],
   "source": [
    "help(isHex)\n",
    "print(isHex('ABA12'))\n",
    "print(isHex('ABAK'))"
   ]
  },
  {
   "cell_type": "markdown",
   "id": "3070c3c8",
   "metadata": {},
   "source": [
    "# ~ DELIVERABLE 1 MAIN CODE\n"
   ]
  },
  {
   "cell_type": "code",
   "execution_count": 21,
   "id": "8a60aed4",
   "metadata": {},
   "outputs": [
    {
     "name": "stdout",
     "output_type": "stream",
     "text": [
      "Help on function IndividualPocketAES in module __main__:\n",
      "\n",
      "IndividualPocketAES()\n",
      "    This Function is the main of Individual PocketAES.\n",
      "    It demonstrates the working of individual PocketAES encryption stages shown in figure 1. \n",
      "    -> Takes as input from user text block and key inputs (in 16-bit hexadecimal numbers)\n",
      "    -> Outputs result of applying SubNibbles, ShiftRow, MixColumns and GenerareRoundKeys on those two.\n",
      "\n",
      "Please Enter Text Block (16-bit hexadecimal numbers): 903M\n",
      "\n",
      "ERROR! Invalid Input. Enter Again\n",
      "\n",
      "Please Enter Text Block (16-bit hexadecimal numbers): 90rkajkaf\n",
      "\n",
      "ERROR! Invalid Input. Enter Again\n",
      "\n",
      "Please Enter Text Block (16-bit hexadecimal numbers): 903b\n",
      "\n",
      "~~~ OUTPUT ~~~\n",
      "\n",
      "SubNibbles (903b) = dae7\n",
      "\n",
      "ShiftRow (903b) = 309b\n",
      "\n",
      "MixColumns (903b) = 9297\n",
      "Please Enter Key (16-bit hexadecimal numbers): dae7g\n",
      "\n",
      "ERROR! Invalid Input. Enter Again\n",
      "\n",
      "Please Enter Key (16-bit hexadecimal numbers): dae7b\n",
      "\n",
      "ERROR! Invalid Input. Enter Again\n",
      "\n",
      "Please Enter Key (16-bit hexadecimal numbers): dae7\n",
      "\n",
      "~~~ OUTPUT ~~~\n",
      "\n",
      "GenerateRoundKeys(dae7) = (6c25, f314)\n",
      "Would You Like To Try Again? (Y/N): Y\n",
      "Great!\n",
      "Please Enter Text Block (16-bit hexadecimal numbers): 903b\n",
      "\n",
      "~~~ OUTPUT ~~~\n",
      "\n",
      "SubNibbles (903b) = dae7\n",
      "\n",
      "ShiftRow (903b) = 309b\n",
      "\n",
      "MixColumns (903b) = 9297\n",
      "Please Enter Key (16-bit hexadecimal numbers): 2cc\n",
      "\n",
      "~~~ OUTPUT ~~~\n",
      "\n",
      "GenerateRoundKeys(02cc) = (57b7, ad61)\n",
      "Would You Like To Try Again? (Y/N): NO\n"
     ]
    }
   ],
   "source": [
    "def IndividualPocketAES():\n",
    "    '''\n",
    "    This Function is the main of Individual PocketAES.\n",
    "    It demonstrates the working of individual PocketAES encryption stages shown in figure 1. \n",
    "    -> Takes as input from user text block and key inputs (in 16-bit hexadecimal numbers)\n",
    "    -> Outputs result of applying SubNibbles, ShiftRow, MixColumns and GenerareRoundKeys on those two. \n",
    "    '''\n",
    "    \n",
    "    againD1=True\n",
    "    while(againD1): #To execute the program till user desires\n",
    "        \n",
    "        while(True): #Like do-while loop to handle invalid user inputs\n",
    "            textBlock=input('Please Enter Text Block (16-bit hexadecimal numbers): ')\n",
    "        \n",
    "            if((len(textBlock)<=4) and isHex(textBlock)): #To check if user input length is less than or equal to 4 and is hex\n",
    "                 break\n",
    "            else:\n",
    "                print('\\nERROR! Invalid Input. Enter Again\\n')\n",
    "            \n",
    "        #If user input length of text block is less than 4, append zeros   \n",
    "        if(len(textBlock)<4):\n",
    "            textBlock=textBlock.zfill(4)\n",
    " \n",
    "\n",
    "        matrix=getNibbles(textBlock)\n",
    "        subnibbles=getSubNibbles(matrix,'Normal')\n",
    "        shiftrow=getShiftRow(matrix)\n",
    "        mixcolumns=getMixColumns(matrix)\n",
    "\n",
    "        print('\\n~~~ OUTPUT ~~~')\n",
    "        print(f'\\nSubNibbles ({textBlock}) =',getInHexFromBinaryStr(subnibbles))\n",
    "        print(f'\\nShiftRow ({textBlock}) =',getInHexFromBinaryStr(shiftrow))\n",
    "        print(f'\\nMixColumns ({textBlock}) =',getInHexFromBinaryStr(mixcolumns))\n",
    "    \n",
    "        while(True): #Like do-while loop to handle invalid user inputs\n",
    "            masterkey=input('Please Enter Key (16-bit hexadecimal numbers): ')\n",
    "            if ((len(masterkey)<=4) and isHex(masterkey)): #To check if user input length is less than or equal to 4 and is hex\n",
    "                 break\n",
    "            else:\n",
    "                print('\\nERROR! Invalid Input. Enter Again\\n')\n",
    "            \n",
    "        #If user input length of master key is less than 4, append zeros   \n",
    "        if(len(masterkey)<4): \n",
    "             masterkey=masterkey.zfill(4)\n",
    "        \n",
    "        generateroundkeys=getGenerateRoundKeys(masterkey)    \n",
    "    \n",
    "        print('\\n~~~ OUTPUT ~~~')\n",
    "        print(f'\\nGenerateRoundKeys({masterkey}) = (',getInHexFromBinary(generateroundkeys[0]),', ',getInHexFromBinary(generateroundkeys[1]),')',sep='')\n",
    "        \n",
    "        while(True): #Like do-while loop to handle invalid user inputs\n",
    "            tryAgainD1=input('Would You Like To Try Again? (Y/N): ')\n",
    "            if(tryAgainD1.lower()=='n' or tryAgainD1.lower()=='no'):\n",
    "                againD1=False\n",
    "                break\n",
    "            elif(tryAgainD1.lower()=='y' or tryAgainD1.lower()=='yes'):\n",
    "                print('Great!')\n",
    "                break\n",
    "            else:\n",
    "                print('Invalid Input! Please enter answer in Y/N')\n",
    "    \n",
    "help(IndividualPocketAES)\n",
    "IndividualPocketAES()"
   ]
  },
  {
   "cell_type": "markdown",
   "id": "66ca7fa5",
   "metadata": {},
   "source": [
    "# 2. Write a program for decrypting one block of ciphertext according to PocketAES algorithm of Section A. Receive the ciphertext and key as hex inputs from user. Decrypted block should be outputted in the same hex format."
   ]
  },
  {
   "cell_type": "code",
   "execution_count": 22,
   "id": "11057c68",
   "metadata": {},
   "outputs": [],
   "source": [
    "# In PocketAES, the constant matrix inverse is fixed to\n",
    "#     [9 2]\n",
    "#     [2 9]\n",
    "constantMatrixInverse=np.array([[0b1001,0b0010],[0b0010,0b1001]])\n",
    "\n",
    "def getMixColumnsInverse(matrix):\n",
    "    '''\n",
    "    In this function, each column of matrix is multiplied by a constant matrix Inverse & result is saved in new matrix & returned\n",
    "    '''\n",
    "    newMatrix=matrix.copy()\n",
    "\n",
    "    r0c0,r1c0=multiplyMatrixWithColumn(constantMatrixInverse,matrix[:,0]) #Constant Matrix Inverse Multiplied with Column 0\n",
    "    r0c1,r1c1=multiplyMatrixWithColumn(constantMatrixInverse,matrix[:,1]) #Constant Matrix Inverse Multiplied with Column 1\n",
    "    \n",
    "    newMatrix[:,0]=[r0c0,r1c0] # Constant Matrix Inverse Multiplied with Column 0's  Result Saved in Column 0 of newMatrix\n",
    "    newMatrix[:,1]=[r0c1,r1c1] # Constant Matrix Inverse Multiplied with Column 1's  Result Saved in Column 1 of newMatrix\n",
    "    \n",
    "    return newMatrix"
   ]
  },
  {
   "cell_type": "code",
   "execution_count": 23,
   "id": "2e348f4e",
   "metadata": {},
   "outputs": [
    {
     "name": "stdout",
     "output_type": "stream",
     "text": [
      "Help on function getMixColumnsInverse in module __main__:\n",
      "\n",
      "getMixColumnsInverse(matrix)\n",
      "    In this function, each column of matrix is multiplied by a constant matrix Inverse & result is saved in new matrix & returned\n",
      "\n",
      "[['0000' '1111']\n",
      " ['0011' '0100']]\n"
     ]
    }
   ],
   "source": [
    "help(getMixColumnsInverse)\n",
    "print(getMixColumnsInverse(matrixNibbles))"
   ]
  },
  {
   "cell_type": "code",
   "execution_count": 24,
   "id": "210aa1e5",
   "metadata": {},
   "outputs": [],
   "source": [
    "def xorMatrix(one,two):\n",
    "    '''\n",
    "    This function takes as input two matrix with binary numbers in str format\n",
    "    -> Converts them to int and takes bit-wise XOR\n",
    "    -> Returns result as a matrix with binary numbers in str format making sure length of each nibble is four.\n",
    "    '''\n",
    "    \n",
    "    A=int(one[0][0],2)^int(two[0][0],2)\n",
    "    B=int(one[0][1],2)^int(two[0][1],2)\n",
    "    C=int(one[1][0],2)^int(two[1][0],2)\n",
    "    D=int(one[1][1],2)^int(two[1][1],2)\n",
    "    \n",
    "    return np.array([[str(bin(A)).split('0b')[1].zfill(4),str(bin(B)).split('0b')[1].zfill(4)],[str(bin(C)).split('0b')[1].zfill(4),str(bin(D)).split('0b')[1].zfill(4)]])"
   ]
  },
  {
   "cell_type": "code",
   "execution_count": 25,
   "id": "b5e4ff0c",
   "metadata": {},
   "outputs": [
    {
     "name": "stdout",
     "output_type": "stream",
     "text": [
      "Help on function xorMatrix in module __main__:\n",
      "\n",
      "xorMatrix(one, two)\n",
      "    This function takes as input two matrix with binary numbers in str format\n",
      "    -> Converts them to int and takes bit-wise XOR\n",
      "    -> Returns result as a matrix with binary numbers in str format making sure length of each nibble is four.\n",
      "\n",
      "[['1101' '1001']\n",
      " ['1110' '0001']]\n"
     ]
    }
   ],
   "source": [
    "help(xorMatrix)\n",
    "print(xorMatrix(MixColumnResult,shiftedMatrix))"
   ]
  },
  {
   "cell_type": "code",
   "execution_count": 26,
   "id": "1561cfaf",
   "metadata": {},
   "outputs": [],
   "source": [
    "def backTrackEncryption(matrixToDecrpyt,roundKey1,roundKey2):\n",
    "    '''\n",
    "    This function takes as input 2 round keys and a matrix to Decrypt by Back-Tracking the encryption process of figure 1\n",
    "    '''  \n",
    "    #Round 2\n",
    "    shiftRowInverseRound2=getShiftRow(matrixToDecrpyt)   \n",
    "    xoredMatrixRound2=xorMatrix(shiftRowInverseRound2,roundKey2)\n",
    "    subNibblesInversedRound2=getSubNibbles(xoredMatrixRound2,'Inverse')\n",
    "    \n",
    "    #Round 1\n",
    "    shiftRowInverseRound1=getShiftRow(subNibblesInversedRound2)\n",
    "    mixColumnsInversedRound1=getMixColumnsInverse(shiftRowInverseRound1)\n",
    "    xoredMatrixRound1=xorMatrix(mixColumnsInversedRound1,roundKey1)\n",
    "    subNibblesInversedRound1=getSubNibbles(xoredMatrixRound1,'Inverse')\n",
    "        \n",
    "    return subNibblesInversedRound1"
   ]
  },
  {
   "cell_type": "code",
   "execution_count": 27,
   "id": "c5454b7e",
   "metadata": {},
   "outputs": [
    {
     "name": "stdout",
     "output_type": "stream",
     "text": [
      "Help on function backTrackEncryption in module __main__:\n",
      "\n",
      "backTrackEncryption(matrixToDecrpyt, roundKey1, roundKey2)\n",
      "    This function takes as input 2 round keys and a matrix to Decrypt by Back-Tracking the encryption process of figure 1\n",
      "\n",
      "b4ec\n"
     ]
    }
   ],
   "source": [
    "help(backTrackEncryption)\n",
    "print(getInHexFromBinaryStr(backTrackEncryption(matrixNibbles,k1,k2)))"
   ]
  },
  {
   "cell_type": "markdown",
   "id": "b3d0e70c",
   "metadata": {},
   "source": [
    "# ~ DELIVERABLE 2 MAIN CODE"
   ]
  },
  {
   "cell_type": "code",
   "execution_count": 28,
   "id": "873a47b7",
   "metadata": {},
   "outputs": [
    {
     "name": "stdout",
     "output_type": "stream",
     "text": [
      "Help on function DecryptCipherText in module __main__:\n",
      "\n",
      "DecryptCipherText()\n",
      "    This function decryptes one block of ciphertext according to PocketAES algorithm of Section A. \n",
      "    -> Receives as input from user the ciphertext and key (In Hex Format) \n",
      "    -> Outputs Decrypted block in the same hex format.\n",
      "\n",
      "Please Enter Cipher Text Block (16-bit hexadecimal numbers): ffff3d7\n",
      "\n",
      "ERROR! Invalid Input. Enter Again\n",
      "\n",
      "Please Enter Cipher Text Block (16-bit hexadecimal numbers): f3d7\n",
      "Please Enter Key (16-bit hexadecimal numbers): yuad\n",
      "\n",
      "ERROR! Invalid Input. Enter Again\n",
      "\n",
      "Please Enter Key (16-bit hexadecimal numbers): abba\n",
      "\n",
      "~~~ OUTPUT ~~~\n",
      "\n",
      "Decrpyted Block: 12d1\n",
      "Would You Like To Try Again? (Y/N): Y\n",
      "Great!\n",
      "Please Enter Cipher Text Block (16-bit hexadecimal numbers): f3d7\n",
      "Please Enter Key (16-bit hexadecimal numbers): 40ee\n",
      "\n",
      "~~~ OUTPUT ~~~\n",
      "\n",
      "Decrpyted Block: e282\n",
      "Would You Like To Try Again? (Y/N): n\n"
     ]
    }
   ],
   "source": [
    "def DecryptCipherText():\n",
    "    '''\n",
    "     This function decryptes one block of ciphertext according to PocketAES algorithm of Section A. \n",
    "     -> Receives as input from user the ciphertext and key (In Hex Format) \n",
    "     -> Outputs Decrypted block in the same hex format.\n",
    "    '''\n",
    "    \n",
    "    againD2=True\n",
    "    while(againD2): #To execute the program till user desires\n",
    "        while(True): #Like do-while loop to handle invalid user inputs\n",
    "            cipherText=input('Please Enter Cipher Text Block (16-bit hexadecimal numbers): ')\n",
    "            if((len(cipherText)<=4) and isHex(cipherText)): #To check if user input length is less than or equal to 4 and is hex\n",
    "                 break\n",
    "            else:\n",
    "                print('\\nERROR! Invalid Input. Enter Again\\n')\n",
    "   \n",
    "        while(True): #Like do-while loop to handle invalid user inputs\n",
    "            userKey=input('Please Enter Key (16-bit hexadecimal numbers): ')\n",
    "            if ((len(userKey)<=4) and isHex(userKey)): #To check if user input length is less than or equal to 4 and is hex\n",
    "                break\n",
    "            else:\n",
    "                print('\\nERROR! Invalid Input. Enter Again\\n')\n",
    "\n",
    "        #If user input length of cipher text or master key is less than 4, append zeros   \n",
    "        if(len(cipherText)<4):\n",
    "            cipherText=cipherText.zfill(4)\n",
    "        if(len(userKey)<4):\n",
    "            userKey=userKey.zfill(4)\n",
    "        \n",
    "        generatedRoundKeys=getGenerateRoundKeys(userKey)    \n",
    "        roundKey1=generatedRoundKeys[0]\n",
    "        roundKey2=generatedRoundKeys[1]\n",
    "          \n",
    "        matrixToDecrpyt=getNibbles(cipherText) \n",
    "    \n",
    "        #Back-Tracking the encryption process of figure 1 \n",
    "        decrpytedBlock=backTrackEncryption(matrixToDecrpyt,roundKey1,roundKey2)\n",
    "     \n",
    "        print('\\n~~~ OUTPUT ~~~')\n",
    "        print('\\nDecrpyted Block:',getInHexFromBinaryStr(decrpytedBlock))\n",
    "        \n",
    "        while(True): #Like do-while loop to handle invalid user inputs\n",
    "            tryAgainD2=input('Would You Like To Try Again? (Y/N): ')\n",
    "            if(tryAgainD2.lower()=='n' or tryAgainD2.lower()=='no'):\n",
    "                againD2=False\n",
    "                break\n",
    "            elif(tryAgainD2.lower()=='y' or tryAgainD2.lower()=='yes'):\n",
    "                print('Great!')\n",
    "                break\n",
    "            else:\n",
    "                print('Invalid Input! Please enter answer in Y/N')\n",
    "\n",
    "help(DecryptCipherText)\n",
    "DecryptCipherText()"
   ]
  },
  {
   "cell_type": "markdown",
   "id": "3c716e80",
   "metadata": {},
   "source": [
    "# 3. Implement the ASCII text decryption scheme defined in Section B. Write a program that reads encrypted text from a file ‘secret.txt’, decrypts it and creates an output file ‘plain.txt’. Key should be obtained from user input. Input will contain a series of ciphertext blocks in hex. See a sample file here. Output data should be in ASCII text. Take care of the null padding that may be present in ciphertext."
   ]
  },
  {
   "cell_type": "code",
   "execution_count": 29,
   "id": "1ec8a352",
   "metadata": {},
   "outputs": [],
   "source": [
    "import binascii\n",
    "def getInAsciiFromBinaryStr(byteStr):\n",
    "    '''\n",
    "    This Function converts Binary numbers in str form that are divided into nibbles\n",
    "    to complete Ascii form and returns the answer in str form\n",
    "    '''\n",
    "    byteStr2=byteStr[0][0]+byteStr[1][0]+byteStr[0][1]+byteStr[1][1]\n",
    "    n = int('0b'+byteStr2, 2)\n",
    "    return str(binascii.unhexlify('%x' % n)).split('b')[1].replace('\\'','')"
   ]
  },
  {
   "cell_type": "code",
   "execution_count": 30,
   "id": "d683c99a",
   "metadata": {},
   "outputs": [
    {
     "name": "stdout",
     "output_type": "stream",
     "text": [
      "Help on function getInAsciiFromBinaryStr in module __main__:\n",
      "\n",
      "getInAsciiFromBinaryStr(byteStr)\n",
      "    This Function converts Binary numbers in str form that are divided into nibbles\n",
      "    to complete Ascii form and returns the answer in str form\n",
      "\n",
      "\\xc3\\xcd\n"
     ]
    }
   ],
   "source": [
    "help(getInAsciiFromBinaryStr)\n",
    "print(getInAsciiFromBinaryStr(matrixNibbles))"
   ]
  },
  {
   "cell_type": "markdown",
   "id": "053cc1c8",
   "metadata": {},
   "source": [
    "# ~ DELIVERABLE 3 MAIN CODE"
   ]
  },
  {
   "cell_type": "code",
   "execution_count": 31,
   "id": "7f251e65",
   "metadata": {},
   "outputs": [],
   "source": [
    "def asciiTextDecryption():\n",
    "    '''\n",
    "    This function implements the ASCII text decryption scheme defined in Section B.\n",
    "    It reads encrypted text from a file and decrypts its contents.\n",
    "    -> Input from user: Key & name of file to read (The file will contain a series of ciphertext blocks in hex.)\n",
    "    -> Output: File ‘plain.txt’ that has decrypted text in ASCII format.\n",
    "    '''\n",
    "    again=True\n",
    "    while(again): #To execute the program till user desires\n",
    "        fileName=input('Please enter name of file to read (Eg. secret.txt): ')\n",
    "        try:\n",
    "            file=open(fileName,'r')\n",
    "        except:\n",
    "            print('ERROR! Can\\'t Open File.')\n",
    "            continue\n",
    "    \n",
    "        allFileText=file.read()                  #Reading file contents\n",
    "        allFileText=allFileText.replace('\\n','') #Removing end of line character\n",
    "        allFileText=allFileText.split(' ')       #Seperating chucks on the basis of space\n",
    "\n",
    "\n",
    "        while(True): #Like do-while loop to handle invalid user inputs\n",
    "            keyToDecrypt=input('Please Enter Key (16-bit hexadecimal numbers): ') \n",
    "            if ((len(keyToDecrypt)<=4) and isHex(keyToDecrypt)): #To check if user input length is less than or equal to 4 and is hex\n",
    "                 break\n",
    "            else:\n",
    "                print('\\nERROR! Invalid Input. Enter Again\\n')\n",
    "            \n",
    "        #If user input length of key is less than 4, append zeros               \n",
    "        if(len(keyToDecrypt)<4):\n",
    "            keyToDecrypt=keyToDecrypt.zfill(4)\n",
    "\n",
    "        generatedRoundKeys=getGenerateRoundKeys(keyToDecrypt)    \n",
    "        roundKey1=generatedRoundKeys[0]\n",
    "        roundKey2=generatedRoundKeys[1]\n",
    "    \n",
    "        decrpytedBlock=''\n",
    "        for i in range(len(allFileText)): #Decrypting text block by block\n",
    "            matrixToDecrpyt=getNibbles(allFileText[i]) \n",
    "    \n",
    "            #Back-Tracking the encryption process of figure 1 \n",
    "            backTracked=backTrackEncryption(matrixToDecrpyt,roundKey1,roundKey2)\n",
    "\n",
    "            decrpytedBlock=decrpytedBlock+getInAsciiFromBinaryStr(backTracked) #Appending each result\n",
    "      \n",
    "            decrpytedBlock=decrpytedBlock.split('\\\\')[0] #Removing Null Paddings\n",
    "   \n",
    "        fileOutput=open('Plain.txt','w')\n",
    "        fileOutput.write(decrpytedBlock)\n",
    "        print('\\nDecrpyted Result\\n----------------------------------------------------------------\\n',decrpytedBlock,'\\n----------------------------------------------------------------')\n",
    "        \n",
    "        while(True): #Like do-while loop to handle invalid user inputs\n",
    "            tryAgain=input('Would You Like To Try Again? (Y/N): ')\n",
    "            if(tryAgain.lower()=='n' or tryAgain.lower()=='no'):\n",
    "                again=False\n",
    "                break\n",
    "            elif(tryAgain.lower()=='y' or tryAgain.lower()=='yes'):\n",
    "                print('Great!')\n",
    "                break\n",
    "            else:\n",
    "                print('Invalid Input! Please enter answer in Y/N')"
   ]
  },
  {
   "cell_type": "code",
   "execution_count": 32,
   "id": "6020911d",
   "metadata": {},
   "outputs": [
    {
     "name": "stdout",
     "output_type": "stream",
     "text": [
      "Help on function asciiTextDecryption in module __main__:\n",
      "\n",
      "asciiTextDecryption()\n",
      "    This function implements the ASCII text decryption scheme defined in Section B.\n",
      "    It reads encrypted text from a file and decrypts its contents.\n",
      "    -> Input from user: Key & name of file to read (The file will contain a series of ciphertext blocks in hex.)\n",
      "    -> Output: File ‘plain.txt’ that has decrypted text in ASCII format.\n",
      "\n",
      "Please enter name of file to read (Eg. secret.txt): aisha.txt\n",
      "ERROR! Can't Open File.\n",
      "Please enter name of file to read (Eg. secret.txt): secret.txt\n",
      "Please Enter Key (16-bit hexadecimal numbers): 149c\n",
      "\n",
      "Decrpyted Result\n",
      "----------------------------------------------------------------\n",
      " Gentlemen, you can\"t\" fight in here. This is the war room. \n",
      "----------------------------------------------------------------\n",
      "Would You Like To Try Again? (Y/N): y\n",
      "Great!\n",
      "Please enter name of file to read (Eg. secret.txt): secret.txt\n",
      "Please Enter Key (16-bit hexadecimal numbers): vhvh\n",
      "\n",
      "ERROR! Invalid Input. Enter Again\n",
      "\n",
      "Please Enter Key (16-bit hexadecimal numbers): secret.txt\n",
      "\n",
      "ERROR! Invalid Input. Enter Again\n",
      "\n",
      "Please Enter Key (16-bit hexadecimal numbers): 149c\n",
      "\n",
      "Decrpyted Result\n",
      "----------------------------------------------------------------\n",
      " Gentlemen, you can\"t\" fight in here. This is the war room. \n",
      "----------------------------------------------------------------\n",
      "Would You Like To Try Again? (Y/N): N\n"
     ]
    }
   ],
   "source": [
    "help(asciiTextDecryption)\n",
    "asciiTextDecryption()"
   ]
  },
  {
   "cell_type": "markdown",
   "id": "48ce073e",
   "metadata": {},
   "source": [
    "# 4. Analyze the encryption scheme discussed in Section B. Does it have any security flaws?\n"
   ]
  },
  {
   "cell_type": "markdown",
   "id": "e95dee56",
   "metadata": {},
   "source": [
    "## Answer:\n",
    "### There are a few security flaws in the encryption scheme discussed in Section B.\n",
    "### The flaws include :\n",
    "### ----> Seprate Encryption of each 16 bit block.\n",
    "### ----> Use of Same key to encrypt each block. \n",
    "\n",
    "### These flaws mean that attackers have more chance of finding the decryted text because the blocks are divided into very short lengths and if they decrypt one they can decrypt others because they have been encrypted by  using the same key. With the advancement of technology, brute force techniques have gotten faster this means if the block length is short it can be decrypted much faster and same key means the whole text can be decrypted in very little time. \n"
   ]
  }
 ],
 "metadata": {
  "kernelspec": {
   "display_name": "Python 3 (ipykernel)",
   "language": "python",
   "name": "python3"
  },
  "language_info": {
   "codemirror_mode": {
    "name": "ipython",
    "version": 3
   },
   "file_extension": ".py",
   "mimetype": "text/x-python",
   "name": "python",
   "nbconvert_exporter": "python",
   "pygments_lexer": "ipython3",
   "version": "3.10.9"
  }
 },
 "nbformat": 4,
 "nbformat_minor": 5
}
